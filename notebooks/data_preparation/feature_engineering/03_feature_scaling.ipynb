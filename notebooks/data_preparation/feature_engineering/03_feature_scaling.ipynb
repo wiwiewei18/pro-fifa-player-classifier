{
 "cells": [
  {
   "cell_type": "markdown",
   "metadata": {},
   "source": [
    "# Feature Scaling"
   ]
  },
  {
   "cell_type": "markdown",
   "metadata": {},
   "source": [
    "## Importing Feature Selected Dataset"
   ]
  },
  {
   "cell_type": "code",
   "execution_count": 3,
   "metadata": {},
   "outputs": [],
   "source": [
    "import pandas as pd\n",
    "pd.set_option('display.max_columns', None)\n",
    "\n",
    "from sklearn.preprocessing import MinMaxScaler, StandardScaler, RobustScaler\n",
    "\n",
    "url = '../../../datasets/preprocessed/ft_selected.csv'\n",
    "feature_selected_fifa_df = pd.read_csv(url, low_memory=False)\n",
    "feature_scaled_fifa_df = feature_selected_fifa_df"
   ]
  },
  {
   "cell_type": "markdown",
   "metadata": {},
   "source": [
    "## Feature Scaling"
   ]
  },
  {
   "cell_type": "markdown",
   "metadata": {},
   "source": [
    "### Checking Feature"
   ]
  },
  {
   "cell_type": "code",
   "execution_count": 4,
   "metadata": {},
   "outputs": [
    {
     "data": {
      "text/html": [
       "<div>\n",
       "<style scoped>\n",
       "    .dataframe tbody tr th:only-of-type {\n",
       "        vertical-align: middle;\n",
       "    }\n",
       "\n",
       "    .dataframe tbody tr th {\n",
       "        vertical-align: top;\n",
       "    }\n",
       "\n",
       "    .dataframe thead th {\n",
       "        text-align: right;\n",
       "    }\n",
       "</style>\n",
       "<table border=\"1\" class=\"dataframe\">\n",
       "  <thead>\n",
       "    <tr style=\"text-align: right;\">\n",
       "      <th></th>\n",
       "      <th>Good Player</th>\n",
       "      <th>Value (€)</th>\n",
       "      <th>Potential Value</th>\n",
       "      <th>Wage (€)</th>\n",
       "      <th>Best Overall Rating</th>\n",
       "      <th>Release Clause (€)</th>\n",
       "      <th>Reactions</th>\n",
       "      <th>International Reputation</th>\n",
       "      <th>Potential</th>\n",
       "      <th>Potential Normalized</th>\n",
       "    </tr>\n",
       "  </thead>\n",
       "  <tbody>\n",
       "    <tr>\n",
       "      <th>0</th>\n",
       "      <td>1</td>\n",
       "      <td>1.869589e+07</td>\n",
       "      <td>1.811928e+07</td>\n",
       "      <td>73807.945008</td>\n",
       "      <td>87.000000</td>\n",
       "      <td>64599999</td>\n",
       "      <td>90.321591</td>\n",
       "      <td>2.514853</td>\n",
       "      <td>87.000000</td>\n",
       "      <td>0.969159</td>\n",
       "    </tr>\n",
       "    <tr>\n",
       "      <th>1</th>\n",
       "      <td>1</td>\n",
       "      <td>1.869589e+07</td>\n",
       "      <td>1.869589e+07</td>\n",
       "      <td>73807.945008</td>\n",
       "      <td>88.073376</td>\n",
       "      <td>161000000</td>\n",
       "      <td>90.321591</td>\n",
       "      <td>2.514853</td>\n",
       "      <td>89.768582</td>\n",
       "      <td>1.000000</td>\n",
       "    </tr>\n",
       "  </tbody>\n",
       "</table>\n",
       "</div>"
      ],
      "text/plain": [
       "   Good Player     Value (€)  Potential Value      Wage (€)  \\\n",
       "0            1  1.869589e+07     1.811928e+07  73807.945008   \n",
       "1            1  1.869589e+07     1.869589e+07  73807.945008   \n",
       "\n",
       "   Best Overall Rating  Release Clause (€)  Reactions  \\\n",
       "0            87.000000            64599999  90.321591   \n",
       "1            88.073376           161000000  90.321591   \n",
       "\n",
       "   International Reputation  Potential  Potential Normalized  \n",
       "0                  2.514853  87.000000              0.969159  \n",
       "1                  2.514853  89.768582              1.000000  "
      ]
     },
     "execution_count": 4,
     "metadata": {},
     "output_type": "execute_result"
    }
   ],
   "source": [
    "feature_scaled_fifa_df.head(2)"
   ]
  },
  {
   "cell_type": "markdown",
   "metadata": {},
   "source": [
    "### Scaling Feature"
   ]
  },
  {
   "cell_type": "code",
   "execution_count": 5,
   "metadata": {},
   "outputs": [],
   "source": [
    "to_scale_features = [\n",
    "    'Value (€)',\n",
    "    'Potential Value',\n",
    "    'Wage (€)',\n",
    "    'Best Overall Rating',\n",
    "    'Release Clause (€)',\n",
    "    'Reactions',\n",
    "    'International Reputation',\n",
    "    'Potential',\n",
    "    'Potential Normalized'\n",
    "]"
   ]
  },
  {
   "cell_type": "code",
   "execution_count": 6,
   "metadata": {},
   "outputs": [
    {
     "data": {
      "text/html": [
       "<div>\n",
       "<style scoped>\n",
       "    .dataframe tbody tr th:only-of-type {\n",
       "        vertical-align: middle;\n",
       "    }\n",
       "\n",
       "    .dataframe tbody tr th {\n",
       "        vertical-align: top;\n",
       "    }\n",
       "\n",
       "    .dataframe thead th {\n",
       "        text-align: right;\n",
       "    }\n",
       "</style>\n",
       "<table border=\"1\" class=\"dataframe\">\n",
       "  <thead>\n",
       "    <tr style=\"text-align: right;\">\n",
       "      <th></th>\n",
       "      <th>Good Player</th>\n",
       "      <th>Value (€)</th>\n",
       "      <th>Potential Value</th>\n",
       "      <th>Wage (€)</th>\n",
       "      <th>Best Overall Rating</th>\n",
       "      <th>Release Clause (€)</th>\n",
       "      <th>Reactions</th>\n",
       "      <th>International Reputation</th>\n",
       "      <th>Potential</th>\n",
       "      <th>Potential Normalized</th>\n",
       "    </tr>\n",
       "  </thead>\n",
       "  <tbody>\n",
       "    <tr>\n",
       "      <th>0</th>\n",
       "      <td>1</td>\n",
       "      <td>4.410448</td>\n",
       "      <td>4.672397</td>\n",
       "      <td>4.30677</td>\n",
       "      <td>2.845952</td>\n",
       "      <td>5.822134</td>\n",
       "      <td>3.009316</td>\n",
       "      <td>3.777075</td>\n",
       "      <td>2.530017</td>\n",
       "      <td>2.530017</td>\n",
       "    </tr>\n",
       "    <tr>\n",
       "      <th>1</th>\n",
       "      <td>1</td>\n",
       "      <td>4.410448</td>\n",
       "      <td>4.839821</td>\n",
       "      <td>4.30677</td>\n",
       "      <td>3.004658</td>\n",
       "      <td>15.195951</td>\n",
       "      <td>3.009316</td>\n",
       "      <td>3.777075</td>\n",
       "      <td>3.014940</td>\n",
       "      <td>3.014940</td>\n",
       "    </tr>\n",
       "  </tbody>\n",
       "</table>\n",
       "</div>"
      ],
      "text/plain": [
       "   Good Player  Value (€)  Potential Value  Wage (€)  Best Overall Rating  \\\n",
       "0            1   4.410448         4.672397   4.30677             2.845952   \n",
       "1            1   4.410448         4.839821   4.30677             3.004658   \n",
       "\n",
       "   Release Clause (€)  Reactions  International Reputation  Potential  \\\n",
       "0            5.822134   3.009316                  3.777075   2.530017   \n",
       "1           15.195951   3.009316                  3.777075   3.014940   \n",
       "\n",
       "   Potential Normalized  \n",
       "0              2.530017  \n",
       "1              3.014940  "
      ]
     },
     "execution_count": 6,
     "metadata": {},
     "output_type": "execute_result"
    }
   ],
   "source": [
    "# TODO: Try to use robust scaling (since there was a lot of outliers in data)\n",
    "\n",
    "# Standardization\n",
    "scaler = StandardScaler()\n",
    "feature_scaled_fifa_df[to_scale_features] = scaler.fit_transform(feature_scaled_fifa_df[to_scale_features])\n",
    "\n",
    "feature_scaled_fifa_df.head(2)"
   ]
  },
  {
   "cell_type": "markdown",
   "metadata": {},
   "source": [
    "## Exporting Feature Scaled Dataset"
   ]
  },
  {
   "cell_type": "code",
   "execution_count": 7,
   "metadata": {},
   "outputs": [],
   "source": [
    "feature_scaled_fifa_df.to_csv('../../../datasets/preprocessed/ft_scaled.csv', index=False)\n",
    "feature_scaled_fifa_df.to_csv('../../../datasets/processed/processed.csv', index=False)"
   ]
  }
 ],
 "metadata": {
  "kernelspec": {
   "display_name": "ruang-guru-playground",
   "language": "python",
   "name": "python3"
  },
  "language_info": {
   "codemirror_mode": {
    "name": "ipython",
    "version": 3
   },
   "file_extension": ".py",
   "mimetype": "text/x-python",
   "name": "python",
   "nbconvert_exporter": "python",
   "pygments_lexer": "ipython3",
   "version": "3.12.4"
  }
 },
 "nbformat": 4,
 "nbformat_minor": 2
}
