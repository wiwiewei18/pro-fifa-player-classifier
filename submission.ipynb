{
 "cells": [
  {
   "cell_type": "markdown",
   "metadata": {},
   "source": [
    "# Submission"
   ]
  },
  {
   "cell_type": "code",
   "execution_count": 2,
   "metadata": {},
   "outputs": [
    {
     "data": {
      "text/plain": [
       "'Assignment successfully submitted'"
      ]
     },
     "execution_count": 2,
     "metadata": {},
     "output_type": "execute_result"
    }
   ],
   "source": [
    "from rggrader import submit\n",
    "\n",
    "student_id = 'REAINTCZ'\n",
    "name = 'Wiwie Sanjaya'\n",
    "github_link = 'https://github.com/wiwiewei18/pro-fifa-player-classifier/blob/master/submission.ipynb'\n",
    "\n",
    "# NOTE: Try another way to handle outliers, do better decision to select features\n",
    "# ./notebooks/data_preparation/feature_engineering/02_feature_selection.ipynb\n",
    "ml_features = [\n",
    "    'Value (€)',\n",
    "    'Wage (€)',\n",
    "    'Best Overall Rating',\n",
    "    'Release Clause (€)',\n",
    "    'Reactions',\n",
    "    'International Reputation',\n",
    "    'Potential',\n",
    "    'Potential Normalized',\n",
    "    'Potential Value',\n",
    "]\n",
    "ml_label = ['Good Player']\n",
    "\n",
    "# ./notebooks/model_training/logistic_regression.ipynb\n",
    "ml_accuracy = 0.9774985388661601\n",
    "ml_f1_score = 0.9145394006659268\n",
    "\n",
    "assignment_id = '00_ml_project'\n",
    "\n",
    "question_id = \"01_ml_project_features\"\n",
    "submit(student_id, name, assignment_id, str(ml_features), question_id, github_link)\n",
    "\n",
    "question_id = \"02_ml_project_accuracy\"\n",
    "submit(student_id, name, assignment_id, str(ml_accuracy), question_id, github_link)\n",
    "\n",
    "question_id = \"03_ml_project_f1score\"\n",
    "submit(student_id, name, assignment_id, str(ml_f1_score), question_id, github_link)"
   ]
  }
 ],
 "metadata": {
  "kernelspec": {
   "display_name": "ruang-guru-playground",
   "language": "python",
   "name": "python3"
  },
  "language_info": {
   "codemirror_mode": {
    "name": "ipython",
    "version": 3
   },
   "file_extension": ".py",
   "mimetype": "text/x-python",
   "name": "python",
   "nbconvert_exporter": "python",
   "pygments_lexer": "ipython3",
   "version": "3.12.4"
  }
 },
 "nbformat": 4,
 "nbformat_minor": 2
}
